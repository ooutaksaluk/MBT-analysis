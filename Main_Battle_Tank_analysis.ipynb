{
  "nbformat": 4,
  "nbformat_minor": 0,
  "metadata": {
    "colab": {
      "provenance": [],
      "authorship_tag": "ABX9TyMiaPWgfEOFigLU1DKFFX46",
      "include_colab_link": true
    },
    "kernelspec": {
      "name": "python3",
      "display_name": "Python 3"
    },
    "language_info": {
      "name": "python"
    }
  },
  "cells": [
    {
      "cell_type": "markdown",
      "metadata": {
        "id": "view-in-github",
        "colab_type": "text"
      },
      "source": [
        "<a href=\"https://colab.research.google.com/github/ooutaksaluk/MBT-analysis/blob/main/Main_Battle_Tank_analysis.ipynb\" target=\"_parent\"><img src=\"https://colab.research.google.com/assets/colab-badge.svg\" alt=\"Open In Colab\"/></a>"
      ]
    },
    {
      "cell_type": "markdown",
      "source": [
        "\n",
        "\n",
        "**Main Battle Tank analysis**\n",
        "\n"
      ],
      "metadata": {
        "id": "7KbiI0pMkFHX"
      }
    },
    {
      "cell_type": "code",
      "source": [
        "!pip install anvil-uplink opencv-python numpy torch torchvision"
      ],
      "metadata": {
        "id": "VCNvselKayuR",
        "colab": {
          "base_uri": "https://localhost:8080/",
          "height": 739
        },
        "outputId": "fdacfcbd-b62f-41e1-9ab5-dd4f28e8104b"
      },
      "execution_count": 1,
      "outputs": [
        {
          "output_type": "stream",
          "name": "stdout",
          "text": [
            "Requirement already satisfied: anvil-uplink in /usr/local/lib/python3.11/dist-packages (0.5.2)\n",
            "Requirement already satisfied: opencv-python in /usr/local/lib/python3.11/dist-packages (4.11.0.86)\n",
            "Requirement already satisfied: numpy in /usr/local/lib/python3.11/dist-packages (2.0.2)\n",
            "Requirement already satisfied: torch in /usr/local/lib/python3.11/dist-packages (2.6.0+cu124)\n",
            "Requirement already satisfied: torchvision in /usr/local/lib/python3.11/dist-packages (0.21.0+cu124)\n",
            "Collecting argparse (from anvil-uplink)\n",
            "  Using cached argparse-1.4.0-py2.py3-none-any.whl.metadata (2.8 kB)\n",
            "Requirement already satisfied: future in /usr/local/lib/python3.11/dist-packages (from anvil-uplink) (1.0.0)\n",
            "Requirement already satisfied: six in /usr/local/lib/python3.11/dist-packages (from anvil-uplink) (1.17.0)\n",
            "Requirement already satisfied: ws4py-sslupdate in /usr/local/lib/python3.11/dist-packages (from anvil-uplink) (0.5.1b0)\n",
            "Requirement already satisfied: filelock in /usr/local/lib/python3.11/dist-packages (from torch) (3.17.0)\n",
            "Requirement already satisfied: typing-extensions>=4.10.0 in /usr/local/lib/python3.11/dist-packages (from torch) (4.12.2)\n",
            "Requirement already satisfied: networkx in /usr/local/lib/python3.11/dist-packages (from torch) (3.4.2)\n",
            "Requirement already satisfied: jinja2 in /usr/local/lib/python3.11/dist-packages (from torch) (3.1.6)\n",
            "Requirement already satisfied: fsspec in /usr/local/lib/python3.11/dist-packages (from torch) (2024.10.0)\n",
            "Requirement already satisfied: nvidia-cuda-nvrtc-cu12==12.4.127 in /usr/local/lib/python3.11/dist-packages (from torch) (12.4.127)\n",
            "Requirement already satisfied: nvidia-cuda-runtime-cu12==12.4.127 in /usr/local/lib/python3.11/dist-packages (from torch) (12.4.127)\n",
            "Requirement already satisfied: nvidia-cuda-cupti-cu12==12.4.127 in /usr/local/lib/python3.11/dist-packages (from torch) (12.4.127)\n",
            "Requirement already satisfied: nvidia-cudnn-cu12==9.1.0.70 in /usr/local/lib/python3.11/dist-packages (from torch) (9.1.0.70)\n",
            "Requirement already satisfied: nvidia-cublas-cu12==12.4.5.8 in /usr/local/lib/python3.11/dist-packages (from torch) (12.4.5.8)\n",
            "Requirement already satisfied: nvidia-cufft-cu12==11.2.1.3 in /usr/local/lib/python3.11/dist-packages (from torch) (11.2.1.3)\n",
            "Requirement already satisfied: nvidia-curand-cu12==10.3.5.147 in /usr/local/lib/python3.11/dist-packages (from torch) (10.3.5.147)\n",
            "Requirement already satisfied: nvidia-cusolver-cu12==11.6.1.9 in /usr/local/lib/python3.11/dist-packages (from torch) (11.6.1.9)\n",
            "Requirement already satisfied: nvidia-cusparse-cu12==12.3.1.170 in /usr/local/lib/python3.11/dist-packages (from torch) (12.3.1.170)\n",
            "Requirement already satisfied: nvidia-cusparselt-cu12==0.6.2 in /usr/local/lib/python3.11/dist-packages (from torch) (0.6.2)\n",
            "Requirement already satisfied: nvidia-nccl-cu12==2.21.5 in /usr/local/lib/python3.11/dist-packages (from torch) (2.21.5)\n",
            "Requirement already satisfied: nvidia-nvtx-cu12==12.4.127 in /usr/local/lib/python3.11/dist-packages (from torch) (12.4.127)\n",
            "Requirement already satisfied: nvidia-nvjitlink-cu12==12.4.127 in /usr/local/lib/python3.11/dist-packages (from torch) (12.4.127)\n",
            "Requirement already satisfied: triton==3.2.0 in /usr/local/lib/python3.11/dist-packages (from torch) (3.2.0)\n",
            "Requirement already satisfied: sympy==1.13.1 in /usr/local/lib/python3.11/dist-packages (from torch) (1.13.1)\n",
            "Requirement already satisfied: mpmath<1.4,>=1.1.0 in /usr/local/lib/python3.11/dist-packages (from sympy==1.13.1->torch) (1.3.0)\n",
            "Requirement already satisfied: pillow!=8.3.*,>=5.3.0 in /usr/local/lib/python3.11/dist-packages (from torchvision) (11.1.0)\n",
            "Requirement already satisfied: MarkupSafe>=2.0 in /usr/local/lib/python3.11/dist-packages (from jinja2->torch) (3.0.2)\n",
            "Using cached argparse-1.4.0-py2.py3-none-any.whl (23 kB)\n",
            "Installing collected packages: argparse\n",
            "Successfully installed argparse-1.4.0\n"
          ]
        },
        {
          "output_type": "display_data",
          "data": {
            "application/vnd.colab-display-data+json": {
              "pip_warning": {
                "packages": [
                  "argparse"
                ]
              },
              "id": "86e8bcad086b4dabbcfd5c46eafd3144"
            }
          },
          "metadata": {}
        }
      ]
    },
    {
      "cell_type": "code",
      "source": [
        "from google.colab import drive\n",
        "drive.mount('/content/drive')"
      ],
      "metadata": {
        "colab": {
          "base_uri": "https://localhost:8080/"
        },
        "id": "FYJIwN6n71XK",
        "outputId": "c5c243fe-a089-4277-9fb8-084f9e11c429"
      },
      "execution_count": 2,
      "outputs": [
        {
          "output_type": "stream",
          "name": "stdout",
          "text": [
            "Drive already mounted at /content/drive; to attempt to forcibly remount, call drive.mount(\"/content/drive\", force_remount=True).\n"
          ]
        }
      ]
    },
    {
      "cell_type": "code",
      "source": [
        "import os\n",
        "\n",
        "train_dir = '/content/drive/My Drive/dataset/train'\n",
        "validation_dir = '/content/drive/My Drive/dataset/validation'\n",
        "\n",
        "# ตรวจสอบว่าโฟลเดอร์มีอยู่จริง\n",
        "if os.path.exists(train_dir):\n",
        "    print(\"พบโฟลเดอร์:\", train_dir)\n",
        "else:\n",
        "    print(\"ไม่พบโฟลเดอร์:\", train_dir)\n"
      ],
      "metadata": {
        "colab": {
          "base_uri": "https://localhost:8080/"
        },
        "id": "59YzopL975Ji",
        "outputId": "eff3d44e-72a0-4377-f70d-3046e55fb23d"
      },
      "execution_count": 3,
      "outputs": [
        {
          "output_type": "stream",
          "name": "stdout",
          "text": [
            "พบโฟลเดอร์: /content/drive/My Drive/dataset/train\n"
          ]
        }
      ]
    },
    {
      "cell_type": "markdown",
      "source": [
        "**เตรียมข้อมูลและการโหลดข้อมูลด้วย Keras**"
      ],
      "metadata": {
        "id": "tNTiApvwXJQC"
      }
    },
    {
      "cell_type": "code",
      "source": [
        "from tensorflow.keras.preprocessing.image import ImageDataGenerator\n",
        "\n",
        "train_datagen = ImageDataGenerator(\n",
        "    rescale=1./255,\n",
        "    rotation_range=40,\n",
        "    width_shift_range=0.2,\n",
        "    height_shift_range=0.2,\n",
        "    shear_range=0.2,\n",
        "    zoom_range=0.2,\n",
        "    horizontal_flip=True,\n",
        "    fill_mode='nearest',\n",
        "    validation_split=0.2  # ใช้ 20% เป็น validation\n",
        ")\n",
        "\n",
        "# โหลดข้อมูล Train (ใช้ 80%)\n",
        "train_generator = train_datagen.flow_from_directory(\n",
        "    train_dir,\n",
        "    target_size=(150, 150),\n",
        "    batch_size=32,\n",
        "    class_mode='binary',\n",
        "    subset='training'\n",
        ")\n",
        "\n",
        "# โหลดข้อมูล Validation (ใช้ 20%)\n",
        "validation_generator = train_datagen.flow_from_directory(\n",
        "    train_dir,\n",
        "    target_size=(150, 150),\n",
        "    batch_size=32,\n",
        "    class_mode='binary',\n",
        "    subset='validation'\n",
        ")\n",
        "\n"
      ],
      "metadata": {
        "id": "1S9sLtplaonK",
        "colab": {
          "base_uri": "https://localhost:8080/"
        },
        "outputId": "213d2701-0701-4cf6-df44-25dc6d795b59"
      },
      "execution_count": 4,
      "outputs": [
        {
          "output_type": "stream",
          "name": "stdout",
          "text": [
            "Found 72 images belonging to 2 classes.\n",
            "Found 18 images belonging to 2 classes.\n"
          ]
        }
      ]
    },
    {
      "cell_type": "markdown",
      "source": [
        "**Training Model**"
      ],
      "metadata": {
        "id": "xyN-o2F9Xeky"
      }
    },
    {
      "cell_type": "code",
      "source": [
        "from tensorflow.keras.models import Sequential\n",
        "from tensorflow.keras.layers import Conv2D, MaxPooling2D, Flatten, Dense, Dropout\n",
        "\n",
        "# สร้างโมเดล CNN\n",
        "model = Sequential([\n",
        "    Conv2D(32, (3,3), activation='relu', input_shape=(150, 150, 3)),\n",
        "    MaxPooling2D(2,2),\n",
        "    Conv2D(64, (3,3), activation='relu'),\n",
        "    MaxPooling2D(2,2),\n",
        "    Conv2D(128, (3,3), activation='relu'),\n",
        "    MaxPooling2D(2,2),\n",
        "    Flatten(),\n",
        "    Dense(512, activation='relu'),\n",
        "    Dropout(0.5),\n",
        "    Dense(2, activation='sigmoid')  # 2 Output: Sight, Mantlet\n",
        "])\n",
        "\n",
        "# ใช้ binary_crossentropy เพราะเป็น Multi-Label (sigmoid)\n",
        "model.compile(loss='binary_crossentropy', optimizer='adam', metrics=['accuracy'])\n",
        "\n",
        "\n",
        "model.save('/content/drive/My Drive/dataset/trained_model.h5')"
      ],
      "metadata": {
        "id": "dxZ84x1iXRVi",
        "colab": {
          "base_uri": "https://localhost:8080/"
        },
        "outputId": "c7ec1d8a-8c36-420c-b950-e1980812a6c0"
      },
      "execution_count": 5,
      "outputs": [
        {
          "output_type": "stream",
          "name": "stderr",
          "text": [
            "/usr/local/lib/python3.11/dist-packages/keras/src/layers/convolutional/base_conv.py:107: UserWarning: Do not pass an `input_shape`/`input_dim` argument to a layer. When using Sequential models, prefer using an `Input(shape)` object as the first layer in the model instead.\n",
            "  super().__init__(activity_regularizer=activity_regularizer, **kwargs)\n",
            "WARNING:absl:You are saving your model as an HDF5 file via `model.save()` or `keras.saving.save_model(model)`. This file format is considered legacy. We recommend using instead the native Keras format, e.g. `model.save('my_model.keras')` or `keras.saving.save_model(model, 'my_model.keras')`. \n"
          ]
        }
      ]
    },
    {
      "cell_type": "code",
      "source": [
        "for layer in model.layers:\n",
        "    print(layer.name)"
      ],
      "metadata": {
        "id": "JeYRVhClVQp3",
        "outputId": "c8e359d3-eb71-4e94-cd81-e2065f9844cc",
        "colab": {
          "base_uri": "https://localhost:8080/"
        }
      },
      "execution_count": 23,
      "outputs": [
        {
          "output_type": "stream",
          "name": "stdout",
          "text": [
            "conv2d\n",
            "max_pooling2d\n",
            "conv2d_1\n",
            "max_pooling2d_1\n",
            "conv2d_2\n",
            "max_pooling2d_2\n",
            "flatten\n",
            "dense\n",
            "dropout\n",
            "dense_1\n"
          ]
        }
      ]
    },
    {
      "cell_type": "code",
      "source": [
        "print(\"🔍 เลเยอร์ Conv2D สุดท้าย:\", LAST_CONV_LAYER)\n"
      ],
      "metadata": {
        "id": "mScMAOOJauDf",
        "outputId": "c632242a-d785-49bb-d1d5-309ded66ef26",
        "colab": {
          "base_uri": "https://localhost:8080/"
        }
      },
      "execution_count": 24,
      "outputs": [
        {
          "output_type": "stream",
          "name": "stdout",
          "text": [
            "🔍 เลเยอร์ Conv2D สุดท้าย: conv2d_2\n"
          ]
        }
      ]
    },
    {
      "cell_type": "code",
      "source": [
        "import numpy as np\n",
        "import cv2\n",
        "from tensorflow.keras.preprocessing import image\n",
        "import tensorflow as tf\n",
        "\n",
        "\n",
        "\n",
        "# กำหนดชื่อเลเยอร์ Convolution สุดท้าย\n",
        "LAST_CONV_LAYER = \"conv2d_2\"\n",
        "\n",
        "def make_gradcam_heatmap(model, img_array, last_conv_layer_name):\n",
        "    \"\"\" สร้าง Heatmap จาก Grad-CAM \"\"\"\n",
        "    grad_model = tf.keras.models.Model(\n",
        "        [model.inputs],\n",
        "        [model.get_layer(last_conv_layer_name).output, model.output]\n",
        "    )\n",
        "\n",
        "    with tf.GradientTape() as tape:\n",
        "        conv_outputs, predictions = grad_model(img_array)\n",
        "        pred_index = tf.argmax(predictions[0])\n",
        "        class_channel = predictions[:, pred_index]\n",
        "\n",
        "    grads = tape.gradient(class_channel, conv_outputs)\n",
        "    pooled_grads = tf.reduce_mean(grads, axis=(0, 1, 2))\n",
        "\n",
        "    conv_outputs = conv_outputs[0]\n",
        "    for i in range(conv_outputs.shape[-1]):\n",
        "        conv_outputs[:, :, i] *= pooled_grads[i]\n",
        "\n",
        "    heatmap = np.mean(conv_outputs, axis=-1)\n",
        "    heatmap = np.maximum(heatmap, 0)\n",
        "    heatmap /= np.max(heatmap)\n",
        "\n",
        "    return heatmap\n",
        "\n",
        "def overlay_heatmap(img, heatmap, alpha=0.4):\n",
        "    \"\"\" ซ้อน Heatmap ลงบนภาพ \"\"\"\n",
        "    heatmap = cv2.resize(heatmap, (img.shape[1], img.shape[0]))\n",
        "    heatmap = np.uint8(255 * heatmap)\n",
        "    heatmap = cv2.applyColorMap(heatmap, cv2.COLORMAP_JET)\n",
        "\n",
        "    superimposed_img = cv2.addWeighted(img, 1 - alpha, heatmap, alpha, 0)\n",
        "    return superimposed_img"
      ],
      "metadata": {
        "id": "1qjlBaBcX2iw"
      },
      "execution_count": 18,
      "outputs": []
    },
    {
      "cell_type": "markdown",
      "source": [
        "\n",
        "\n",
        "\n",
        "**Anvil**\n",
        "\n"
      ],
      "metadata": {
        "id": "d-ciwgxqXkqM"
      }
    },
    {
      "cell_type": "code",
      "source": [
        "import anvil.server\n",
        "import anvil.media\n",
        "import tensorflow as tf\n",
        "import numpy as np\n",
        "import cv2\n",
        "\n",
        "#  โหลดโมเดลด้วย input shape ที่ถูกต้อง\n",
        "model = tf.keras.models.load_model('/content/drive/My Drive/dataset/trained_model.h5')\n",
        "\n",
        "#  สร้างอินพุตเปล่าแล้วรันโมเดล 1 ครั้ง\n",
        "dummy_input = tf.zeros((1, 150, 150, 3))  # ใช้ tf.zeros() เพื่อให้แน่ใจว่าเป็น TensorFlow tensor\n",
        "_ = model(dummy_input, training=False)  #  ใช้โมเดลแบบฟังก์ชัน (แทนการ predict)\n",
        "\n",
        "#  ค้นหาเลเยอร์ Conv2D สุดท้าย\n",
        "LAST_CONV_LAYER = None\n",
        "for layer in reversed(model.layers):\n",
        "    if isinstance(layer, tf.keras.layers.Conv2D):\n",
        "        LAST_CONV_LAYER = layer.name\n",
        "        break\n",
        "\n",
        "if LAST_CONV_LAYER is None:\n",
        "    raise ValueError(\"❌ ไม่พบเลเยอร์ Conv2D ในโมเดล!\")\n",
        "\n",
        "print(f\" Conv2D สุดท้ายที่ใช้: {LAST_CONV_LAYER}\")\n",
        "def make_gradcam_heatmap(model, img_array, last_conv_layer_name):\n",
        "    \"\"\"สร้าง Heatmap จาก Grad-CAM\"\"\"\n",
        "    # ✅ สร้างโมเดลใหม่โดยรวม Conv2D Layer และ Output Layer\n",
        "    grad_model = tf.keras.models.Model(\n",
        "        inputs=model.input,\n",
        "        outputs=[model.get_layer(last_conv_layer_name).output, model.output]\n",
        "    )\n",
        "\n",
        "    with tf.GradientTape() as tape:\n",
        "        conv_outputs, predictions = grad_model(img_array, training=False)\n",
        "        pred_index = tf.argmax(predictions[0])\n",
        "        class_channel = predictions[:, pred_index]\n",
        "\n",
        "    grads = tape.gradient(class_channel, conv_outputs)\n",
        "    pooled_grads = tf.reduce_mean(grads, axis=(0, 1, 2))\n",
        "\n",
        "    conv_outputs = conv_outputs[0]\n",
        "    for i in range(conv_outputs.shape[-1]):\n",
        "        conv_outputs[:, :, i] *= pooled_grads[i]\n",
        "\n",
        "    heatmap = np.mean(conv_outputs, axis=-1)\n",
        "    heatmap = np.maximum(heatmap, 0)\n",
        "    heatmap /= np.max(heatmap)  # Normalize\n",
        "\n",
        "    return heatmap\n",
        "\n",
        "@anvil.server.callable\n",
        "def process_image(file):\n",
        "    \"\"\"ฟังก์ชันประมวลผลภาพจาก Client\"\"\"\n",
        "\n",
        "    # แปลง BlobMedia เป็น bytes\n",
        "    file_bytes = file.get_bytes()\n",
        "\n",
        "    # แปลง bytes เป็น OpenCV image\n",
        "    nparr = np.frombuffer(file_bytes, np.uint8)\n",
        "    img = cv2.imdecode(nparr, cv2.IMREAD_COLOR)\n",
        "\n",
        "    if img is None:\n",
        "        raise ValueError(\"Error: ไม่สามารถโหลดรูปภาพได้!\")\n",
        "\n",
        "    # แปลงภาพให้เข้ากับโมเดล\n",
        "    img_resized = cv2.resize(img, (150, 150))\n",
        "    img_array = img_resized.astype('float32') / 255.0\n",
        "    img_array = np.expand_dims(img_array, axis=0)\n",
        "\n",
        "    # ทำนายผลลัพธ์\n",
        "    prediction = model(img_array, training=False)[0]\n",
        "\n",
        "    # ตรวจสอบว่ามี Sight หรือ Mantlet หรือไม่\n",
        "    labels = [\"Sight\", \"Mantlet\"]\n",
        "    detected_labels = [labels[i] for i, value in enumerate(prediction) if value > 0.5]\n",
        "\n",
        "    # สร้าง Grad-CAM Heatmap\n",
        "    heatmap = make_gradcam_heatmap(model, img_array, LAST_CONV_LAYER)\n",
        "\n",
        "    # แปลง Heatmap เป็นภาพ\n",
        "    heatmap_resized = cv2.resize(heatmap, (img.shape[1], img.shape[0]))\n",
        "    heatmap_colored = np.uint8(255 * heatmap_resized)\n",
        "    heatmap_colored = cv2.applyColorMap(heatmap_colored, cv2.COLORMAP_JET)\n",
        "\n",
        "    # ซ้อน Heatmap ลงบนภาพต้นฉบับ\n",
        "    overlayed_img = cv2.addWeighted(img, 0.6, heatmap_colored, 0.4, 0)\n",
        "\n",
        "    # แปลงภาพกลับเป็นไฟล์และส่งกลับไปยัง Anvil\n",
        "    _, img_encoded = cv2.imencode('.jpg', overlayed_img)\n",
        "    return anvil.BlobMedia(\"image/jpeg\", img_encoded.tobytes())\n",
        "\n",
        "# ✅ เริ่มเซิร์ฟเวอร์ Anvil\n",
        "anvil.server.wait_forever()\n"
      ],
      "metadata": {
        "id": "_-eWIpbxXs_r",
        "colab": {
          "base_uri": "https://localhost:8080/",
          "height": 317
        },
        "outputId": "5b162ac2-7c4c-4d64-c26e-7c9e99f38334"
      },
      "execution_count": 31,
      "outputs": [
        {
          "output_type": "stream",
          "name": "stderr",
          "text": [
            "WARNING:absl:Compiled the loaded model, but the compiled metrics have yet to be built. `model.compile_metrics` will be empty until you train or evaluate the model.\n"
          ]
        },
        {
          "output_type": "stream",
          "name": "stdout",
          "text": [
            " Conv2D สุดท้ายที่ใช้: conv2d_2\n"
          ]
        },
        {
          "output_type": "error",
          "ename": "KeyboardInterrupt",
          "evalue": "",
          "traceback": [
            "\u001b[0;31m---------------------------------------------------------------------------\u001b[0m",
            "\u001b[0;31mKeyboardInterrupt\u001b[0m                         Traceback (most recent call last)",
            "\u001b[0;32m<ipython-input-31-de1569f554d3>\u001b[0m in \u001b[0;36m<cell line: 0>\u001b[0;34m()\u001b[0m\n\u001b[1;32m     91\u001b[0m \u001b[0;34m\u001b[0m\u001b[0m\n\u001b[1;32m     92\u001b[0m \u001b[0;31m# ✅ เริ่มเซิร์ฟเวอร์ Anvil\u001b[0m\u001b[0;34m\u001b[0m\u001b[0;34m\u001b[0m\u001b[0m\n\u001b[0;32m---> 93\u001b[0;31m \u001b[0manvil\u001b[0m\u001b[0;34m.\u001b[0m\u001b[0mserver\u001b[0m\u001b[0;34m.\u001b[0m\u001b[0mwait_forever\u001b[0m\u001b[0;34m(\u001b[0m\u001b[0;34m)\u001b[0m\u001b[0;34m\u001b[0m\u001b[0;34m\u001b[0m\u001b[0m\n\u001b[0m",
            "\u001b[0;32m/usr/local/lib/python3.11/dist-packages/anvil/server.py\u001b[0m in \u001b[0;36mwait_forever\u001b[0;34m()\u001b[0m\n\u001b[1;32m    446\u001b[0m     \u001b[0m_get_connection\u001b[0m\u001b[0;34m(\u001b[0m\u001b[0;34m)\u001b[0m\u001b[0;34m\u001b[0m\u001b[0;34m\u001b[0m\u001b[0m\n\u001b[1;32m    447\u001b[0m     \u001b[0;32mwhile\u001b[0m \u001b[0;32mTrue\u001b[0m\u001b[0;34m:\u001b[0m\u001b[0;34m\u001b[0m\u001b[0;34m\u001b[0m\u001b[0m\n\u001b[0;32m--> 448\u001b[0;31m         \u001b[0mtime\u001b[0m\u001b[0;34m.\u001b[0m\u001b[0msleep\u001b[0m\u001b[0;34m(\u001b[0m\u001b[0;36m1\u001b[0m\u001b[0;34m)\u001b[0m\u001b[0;34m\u001b[0m\u001b[0;34m\u001b[0m\u001b[0m\n\u001b[0m",
            "\u001b[0;31mKeyboardInterrupt\u001b[0m: "
          ]
        }
      ]
    }
  ]
}