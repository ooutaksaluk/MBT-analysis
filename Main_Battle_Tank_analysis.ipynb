{
  "nbformat": 4,
  "nbformat_minor": 0,
  "metadata": {
    "colab": {
      "provenance": [],
      "authorship_tag": "ABX9TyNYVzjNGuzNNptPUxsaMcad",
      "include_colab_link": true
    },
    "kernelspec": {
      "name": "python3",
      "display_name": "Python 3"
    },
    "language_info": {
      "name": "python"
    }
  },
  "cells": [
    {
      "cell_type": "markdown",
      "metadata": {
        "id": "view-in-github",
        "colab_type": "text"
      },
      "source": [
        "<a href=\"https://colab.research.google.com/github/ooutaksaluk/MBT-analysis/blob/main/Main_Battle_Tank_analysis.ipynb\" target=\"_parent\"><img src=\"https://colab.research.google.com/assets/colab-badge.svg\" alt=\"Open In Colab\"/></a>"
      ]
    },
    {
      "cell_type": "markdown",
      "source": [
        "\n",
        "\n",
        "**Main Battle Tank analysis**\n",
        "\n"
      ],
      "metadata": {
        "id": "7KbiI0pMkFHX"
      }
    },
    {
      "cell_type": "code",
      "source": [
        "!pip install anvil-uplink opencv-python numpy torch torchvision"
      ],
      "metadata": {
        "id": "VCNvselKayuR"
      },
      "execution_count": null,
      "outputs": []
    },
    {
      "cell_type": "markdown",
      "source": [
        "**เตรียมข้อมูลและการโหลดข้อมูลด้วย Keras**"
      ],
      "metadata": {
        "id": "tNTiApvwXJQC"
      }
    },
    {
      "cell_type": "code",
      "source": [
        "import tensorflow as tf\n",
        "from tensorflow.keras.preprocessing.image import ImageDataGenerator\n",
        "\n",
        "# กำหนด path ของ dataset\n",
        "train_dir = 'C:\\Users\\ADMIN\\Documents\\dataset/train'\n",
        "validation_dir = 'C:\\Users\\ADMIN\\Documents\\dataset/validation'\n",
        "\n",
        "# การเตรียมข้อมูล\n",
        "train_datagen = ImageDataGenerator(rescale=1./255, rotation_range=40, width_shift_range=0.2, height_shift_range=0.2, shear_range=0.2, zoom_range=0.2, horizontal_flip=True, fill_mode='nearest')\n",
        "validation_datagen = ImageDataGenerator(rescale=1./255)\n",
        "\n",
        "train_generator = train_datagen.flow_from_directory(train_dir, target_size=(150, 150), batch_size=32, class_mode='binary')\n",
        "validation_generator = validation_datagen.flow_from_directory(validation_dir, target_size=(150, 150), batch_size=32, class_mode='binary')\n"
      ],
      "metadata": {
        "id": "1S9sLtplaonK"
      },
      "execution_count": null,
      "outputs": []
    },
    {
      "cell_type": "markdown",
      "source": [
        "**Training Model**"
      ],
      "metadata": {
        "id": "xyN-o2F9Xeky"
      }
    },
    {
      "cell_type": "code",
      "source": [
        "from tensorflow.keras.models import Sequential\n",
        "from tensorflow.keras.layers import Conv2D, MaxPooling2D, Flatten, Dense, Dropout\n",
        "\n",
        "# สร้างโมเดล CNN\n",
        "model = Sequential()\n",
        "model.add(Conv2D(32, (3, 3), activation='relu', input_shape=(150, 150, 3)))\n",
        "model.add(MaxPooling2D(2, 2))\n",
        "model.add(Conv2D(64, (3, 3), activation='relu'))\n",
        "model.add(MaxPooling2D(2, 2))\n",
        "model.add(Conv2D(128, (3, 3), activation='relu'))\n",
        "model.add(MaxPooling2D(2, 2))\n",
        "model.add(Flatten())\n",
        "model.add(Dense(512, activation='relu'))\n",
        "model.add(Dropout(0.5))\n",
        "model.add(Dense(1, activation='sigmoid'))  # binary classification (Sight vs Mantlet)\n",
        "\n",
        "# คอมไพล์โมเดล\n",
        "model.compile(loss='binary_crossentropy', optimizer='adam', metrics=['accuracy'])\n",
        "\n",
        "# ฝึกโมเดล\n",
        "model.fit(train_generator, epochs=10, validation_data=validation_generator)\n"
      ],
      "metadata": {
        "id": "dxZ84x1iXRVi"
      },
      "execution_count": null,
      "outputs": []
    },
    {
      "cell_type": "markdown",
      "source": [
        "\n",
        "\n",
        "\n",
        "**Prediction**\n",
        "\n"
      ],
      "metadata": {
        "id": "d-ciwgxqXkqM"
      }
    },
    {
      "cell_type": "code",
      "source": [
        "import numpy as np\n",
        "import cv2\n",
        "from tensorflow.keras.preprocessing import image\n",
        "\n",
        "# โหลดโมเดลที่ฝึกเสร็จแล้ว\n",
        "model = tf.keras.models.load_model('path_to_trained_model.h5')\n",
        "\n",
        "def predict_sight_mantlet(image_path):\n",
        "    img = cv2.imread(image_path)\n",
        "    img = cv2.resize(img, (150, 150))  # ปรับขนาดให้เหมาะสมกับ input ของโมเดล\n",
        "    img_array = image.img_to_array(img)  # แปลงภาพเป็น array\n",
        "    img_array = np.expand_dims(img_array, axis=0)  # เพิ่ม batch dimension\n",
        "\n",
        "    # ทำนายผล\n",
        "    prediction = model.predict(img_array)\n",
        "\n",
        "    # ตรวจสอบผลลัพธ์\n",
        "    if prediction[0] > 0.5:\n",
        "        return \"Mantlet\"\n",
        "    else:\n",
        "        return \"Sight\"\n",
        "\n",
        "# ทดสอบโมเดล\n",
        "result = predict_sight_mantlet('path_to_test_image.jpg')\n",
        "print(result)\n"
      ],
      "metadata": {
        "id": "p6TQN5R2XRIK"
      },
      "execution_count": null,
      "outputs": []
    },
    {
      "cell_type": "code",
      "source": [
        "import anvil.server\n",
        "import numpy as np\n",
        "import cv2\n",
        "import io\n",
        "from tensorflow.keras.preprocessing import image\n",
        "import tensorflow as tf\n",
        "\n",
        "# เชื่อมต่อกับ Anvil\n",
        "anvil.server.connect(\"server_LX2D76OV3RCR3XCSOMCFYQZL-JGQCERXRR5DWB5QH\")\n",
        "\n",
        "# โหลดโมเดลที่ฝึกเสร็จแล้ว\n",
        "model = tf.keras.models.load_model('path_to_trained_model.h5')\n",
        "\n",
        "@anvil.server.callable\n",
        "def process_image(image_bytes):\n",
        "    # แปลง bytes เป็นภาพ\n",
        "    img_array = np.frombuffer(image_bytes, np.uint8)\n",
        "    img = cv2.imdecode(img_array, cv2.IMREAD_COLOR)\n",
        "\n",
        "    # ปรับขนาดภาพให้เหมาะสม\n",
        "    img_resized = cv2.resize(img, (150, 150))  # ปรับขนาดให้เหมาะสมกับ input ของโมเดล\n",
        "    img_array = image.img_to_array(img_resized)\n",
        "    img_array = np.expand_dims(img_array, axis=0)\n",
        "\n",
        "    # ทำนายผล\n",
        "    prediction = model.predict(img_array)\n",
        "\n",
        "    # ตรวจสอบผลลัพธ์\n",
        "    result = \"Mantlet\" if prediction[0] > 0.5 else \"Sight\"\n",
        "\n",
        "    # ใส่ Label และส่งผลลัพธ์กลับ\n",
        "    cv2.putText(img, result, (50, 50), cv2.FONT_HERSHEY_SIMPLEX, 1, (0, 255, 0), 2)\n",
        "\n",
        "    # แปลงกลับเป็น bytes\n",
        "    _, buffer = cv2.imencode('.png', img)\n",
        "    return io.BytesIO(buffer).getvalue()\n",
        "\n",
        "# รอรับคำสั่งจาก Anvil\n",
        "anvil.server.wait_forever()\n"
      ],
      "metadata": {
        "id": "_-eWIpbxXs_r"
      },
      "execution_count": null,
      "outputs": []
    }
  ]
}